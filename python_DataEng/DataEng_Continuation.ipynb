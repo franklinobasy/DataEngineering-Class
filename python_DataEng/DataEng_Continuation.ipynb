{
 "cells": [
  {
   "cell_type": "code",
   "execution_count": null,
   "id": "fbf0f0a4",
   "metadata": {},
   "outputs": [],
   "source": [
    "###Functions\n",
    "\n",
    "-- Resuable block of code"
   ]
  },
  {
   "cell_type": "code",
   "execution_count": 6,
   "id": "b76f8ce6",
   "metadata": {},
   "outputs": [
    {
     "name": "stdout",
     "output_type": "stream",
     "text": [
      "24\n"
     ]
    }
   ],
   "source": [
    "a = \"jake\"\n",
    "n = len(a)\n",
    "\n",
    "n_num = 1\n",
    "for i in range(1, n+1):\n",
    "    n_num = i * n_num\n",
    "print(n_num)"
   ]
  },
  {
   "cell_type": "code",
   "execution_count": 10,
   "id": "4eb722a2",
   "metadata": {},
   "outputs": [
    {
     "name": "stdout",
     "output_type": "stream",
     "text": [
      "720\n"
     ]
    }
   ],
   "source": [
    "def factorial_value(name):\n",
    "    n_num = 1\n",
    "    for i in range(1, len(name)+1):\n",
    "        n_num = i * n_num\n",
    "    return n_num\n",
    "\n",
    "b = factorial_value(\"mathew\")\n",
    "print(b)"
   ]
  },
  {
   "cell_type": "code",
   "execution_count": 17,
   "id": "3e3f447f",
   "metadata": {},
   "outputs": [
    {
     "name": "stdout",
     "output_type": "stream",
     "text": [
      "[{'name': 'jake', 'age': 40, 'color': 'white'}, {'name': 'klinneth', 'age': 28, 'color': 'brown'}, {'name': 'damian', 'age': 30, 'color': 'blue'}, {'name': 'Tony', 'age': 32, 'color': 'red'}]\n"
     ]
    }
   ],
   "source": [
    "lst_dict = [{\"name\":\"jake\", \"age\":40, \"color\":\"white\"},\n",
    "            {\"name\":\"klinneth\", \"age\":28, \"color\":\"brown\"},\n",
    "            {\"name\":\"damian\", \"age\":30, \"color\":\"blue\"},\n",
    "            {\"name\":\"Tony\", \"age\":32, \"color\":\"red\"}]\n",
    "print(lst_dict)"
   ]
  },
  {
   "cell_type": "code",
   "execution_count": 14,
   "id": "18822284",
   "metadata": {},
   "outputs": [
    {
     "name": "stdout",
     "output_type": "stream",
     "text": [
      "{'name': 'klinneth', 'age': 28, 'color': 'brown'}\n",
      "{'name': 'damian', 'age': 30, 'color': 'blue'}\n"
     ]
    }
   ],
   "source": [
    "for i in lst_dict:\n",
    "    for n, t in i.items():\n",
    "        if i[\"color\"][0] == \"b\":\n",
    "            print(i)\n",
    "        break"
   ]
  },
  {
   "cell_type": "code",
   "execution_count": 18,
   "id": "1fd48c2c",
   "metadata": {},
   "outputs": [],
   "source": [
    "def get_bcolors(lst_dict):\n",
    "    b_list = []\n",
    "    for i in lst_dict:\n",
    "        for n, t in i.items():\n",
    "            if i[\"color\"][0] == \"b\":\n",
    "                b_list.append(i)\n",
    "            break\n",
    "    return b_list"
   ]
  },
  {
   "cell_type": "code",
   "execution_count": 19,
   "id": "162e0467",
   "metadata": {},
   "outputs": [
    {
     "name": "stdout",
     "output_type": "stream",
     "text": [
      "[{'name': 'klinneth', 'age': 28, 'color': 'brown'}, {'name': 'damian', 'age': 30, 'color': 'blue'}]\n"
     ]
    }
   ],
   "source": [
    "b = get_bcolors(lst_dict)\n",
    "print(b)"
   ]
  },
  {
   "cell_type": "code",
   "execution_count": 41,
   "id": "c8823408",
   "metadata": {},
   "outputs": [],
   "source": [
    "arr_num = [\"kate\", 10, \"ben\", 10, 10, 6, \"kate\", \"ben\", \"ben\", 10, \"ben\", \"ben\", \"kate\", \"ben\"]"
   ]
  },
  {
   "cell_type": "code",
   "execution_count": 53,
   "id": "f8dcb12d",
   "metadata": {},
   "outputs": [
    {
     "name": "stdout",
     "output_type": "stream",
     "text": [
      "6\n"
     ]
    }
   ],
   "source": [
    "def collector_function(arr_num):\n",
    "    return arr_num\n",
    "\n",
    "\n",
    "def get_hashtable(arr_num):\n",
    "    dict_val = {}\n",
    "    for i in arr_num:\n",
    "        dict_val[i] = dict_val.get(i, 0) + 1\n",
    "    return dict_val\n",
    "\n",
    "\n",
    "def get_values(dict_val):\n",
    "    values = []\n",
    "    for i, n in dict_val.items():\n",
    "        values.append(n)\n",
    "    return values\n",
    "\n",
    "def max_val(values):\n",
    "    values.sort()\n",
    "    max_val = values[-1]\n",
    "    return max_val\n",
    "\n",
    "def modal_val(dict_val, max_val):\n",
    "    for i, p in dict_val.items():\n",
    "        if p == max_val:\n",
    "            return i\n",
    "        \n",
    "        \n",
    "arrys = [1, \"jake\", 7, 18, 7, \"b\"]\n",
    "\n",
    "\n",
    "p_collect = collector_function(arr_num)      \n",
    "k = get_hashtable(p_collect)\n",
    "y = get_values(k)\n",
    "x_sort = max_val(y)\n",
    "modal_t = modal_val(k, x_sort)\n",
    "print(modal_t)"
   ]
  },
  {
   "cell_type": "code",
   "execution_count": 69,
   "id": "946a0078",
   "metadata": {},
   "outputs": [],
   "source": [
    "dict_data = [{\"id\":1001, \"car\":\"mercedes-benz\", \"credit\":95},\n",
    "             {\"id\":1003, \"car\":\"venza\", \"credit\":75},\n",
    "             {\"id\":1006, \"car\":\"tingo\", \"credit\":80}]\n",
    "\n",
    "dict_data2 = [{\"id\":1001, \"status\":\"married\"},\n",
    "             {\"id\":1003, \"status\":\"un-married\"},\n",
    "             {\"id\":1006, \"status\":\"married\"}]\n",
    "\n",
    "array = [[1006, \"jake\"],\n",
    "         [1001, \"ben\"],\n",
    "         [1003, \"suzzy\"],\n",
    "         [1002, \"kate\"]]\n",
    "\n",
    "\n"
   ]
  },
  {
   "cell_type": "code",
   "execution_count": 70,
   "id": "81361a36",
   "metadata": {},
   "outputs": [
    {
     "name": "stdout",
     "output_type": "stream",
     "text": [
      "[{'id': 1001, 'car': 'mercedes-benz', 'credit': 95}, {'id': 1003, 'car': 'venza', 'credit': 75}, {'id': 1006, 'car': 'tingo', 'credit': 80}]\n",
      "[[1006, 'jake'], [1001, 'ben'], [1003, 'suzzy'], [1002, 'kate']]\n",
      "[{'id': 1001, 'status': 'married'}, {'id': 1003, 'status': 'un-married'}, {'id': 1006, 'status': 'married'}]\n"
     ]
    }
   ],
   "source": [
    "print(dict_data)\n",
    "print(array)\n",
    "print(dict_data2)"
   ]
  },
  {
   "cell_type": "code",
   "execution_count": 72,
   "id": "3256a345",
   "metadata": {},
   "outputs": [
    {
     "data": {
      "text/html": [
       "<div>\n",
       "<style scoped>\n",
       "    .dataframe tbody tr th:only-of-type {\n",
       "        vertical-align: middle;\n",
       "    }\n",
       "\n",
       "    .dataframe tbody tr th {\n",
       "        vertical-align: top;\n",
       "    }\n",
       "\n",
       "    .dataframe thead th {\n",
       "        text-align: right;\n",
       "    }\n",
       "</style>\n",
       "<table border=\"1\" class=\"dataframe\">\n",
       "  <thead>\n",
       "    <tr style=\"text-align: right;\">\n",
       "      <th></th>\n",
       "      <th>id</th>\n",
       "      <th>name</th>\n",
       "      <th>car</th>\n",
       "      <th>credit</th>\n",
       "      <th>status</th>\n",
       "    </tr>\n",
       "  </thead>\n",
       "  <tbody>\n",
       "    <tr>\n",
       "      <th>0</th>\n",
       "      <td>1006</td>\n",
       "      <td>jake</td>\n",
       "      <td>tingo</td>\n",
       "      <td>80</td>\n",
       "      <td>married</td>\n",
       "    </tr>\n",
       "    <tr>\n",
       "      <th>1</th>\n",
       "      <td>1001</td>\n",
       "      <td>ben</td>\n",
       "      <td>mercedes-benz</td>\n",
       "      <td>95</td>\n",
       "      <td>married</td>\n",
       "    </tr>\n",
       "    <tr>\n",
       "      <th>2</th>\n",
       "      <td>1003</td>\n",
       "      <td>suzzy</td>\n",
       "      <td>venza</td>\n",
       "      <td>75</td>\n",
       "      <td>un-married</td>\n",
       "    </tr>\n",
       "  </tbody>\n",
       "</table>\n",
       "</div>"
      ],
      "text/plain": [
       "     id   name            car  credit      status\n",
       "0  1006   jake          tingo      80     married\n",
       "1  1001    ben  mercedes-benz      95     married\n",
       "2  1003  suzzy          venza      75  un-married"
      ]
     },
     "execution_count": 72,
     "metadata": {},
     "output_type": "execute_result"
    }
   ],
   "source": [
    "import pandas as pd\n",
    "\n",
    "def get_df1(dict_data):   ####converting a json to dataframe\n",
    "    df1 = pd.DataFrame(dict_data)\n",
    "    return df1\n",
    "\n",
    "\n",
    "def get_df2(array):\n",
    "    df2 = pd.DataFrame(array)\n",
    "    df2.columns = [\"id\", \"name\"]\n",
    "    return df2\n",
    "\n",
    "\n",
    "def join_onKey(df2, df1, key):\n",
    "    df3 = pd.merge(df2, df1, on=key)\n",
    "    return df3\n",
    "\n",
    "data = get_df1(dict_data)\n",
    "data2 = get_df2(array)\n",
    "df_data = get_df1(dict_data2)\n",
    "merged_data = join_onKey(df2, df1, \"id\")\n",
    "new_merged = pd.merge(merged_data, df_data, on=\"id\")\n",
    "#merged_data\n",
    "#df_data\n",
    "new_merged"
   ]
  },
  {
   "cell_type": "code",
   "execution_count": 61,
   "id": "37c5d5e5",
   "metadata": {},
   "outputs": [
    {
     "data": {
      "text/html": [
       "<div>\n",
       "<style scoped>\n",
       "    .dataframe tbody tr th:only-of-type {\n",
       "        vertical-align: middle;\n",
       "    }\n",
       "\n",
       "    .dataframe tbody tr th {\n",
       "        vertical-align: top;\n",
       "    }\n",
       "\n",
       "    .dataframe thead th {\n",
       "        text-align: right;\n",
       "    }\n",
       "</style>\n",
       "<table border=\"1\" class=\"dataframe\">\n",
       "  <thead>\n",
       "    <tr style=\"text-align: right;\">\n",
       "      <th></th>\n",
       "      <th>id</th>\n",
       "      <th>name</th>\n",
       "    </tr>\n",
       "  </thead>\n",
       "  <tbody>\n",
       "    <tr>\n",
       "      <th>0</th>\n",
       "      <td>1006</td>\n",
       "      <td>jake</td>\n",
       "    </tr>\n",
       "    <tr>\n",
       "      <th>1</th>\n",
       "      <td>1001</td>\n",
       "      <td>ben</td>\n",
       "    </tr>\n",
       "    <tr>\n",
       "      <th>2</th>\n",
       "      <td>1003</td>\n",
       "      <td>suzzy</td>\n",
       "    </tr>\n",
       "    <tr>\n",
       "      <th>3</th>\n",
       "      <td>1002</td>\n",
       "      <td>kate</td>\n",
       "    </tr>\n",
       "  </tbody>\n",
       "</table>\n",
       "</div>"
      ],
      "text/plain": [
       "     id   name\n",
       "0  1006   jake\n",
       "1  1001    ben\n",
       "2  1003  suzzy\n",
       "3  1002   kate"
      ]
     },
     "execution_count": 61,
     "metadata": {},
     "output_type": "execute_result"
    }
   ],
   "source": [
    "df2 = pd.DataFrame(array)\n",
    "df2.columns = [\"id\", \"name\"]\n",
    "df2"
   ]
  },
  {
   "cell_type": "code",
   "execution_count": 63,
   "id": "cc25f424",
   "metadata": {},
   "outputs": [
    {
     "data": {
      "text/html": [
       "<div>\n",
       "<style scoped>\n",
       "    .dataframe tbody tr th:only-of-type {\n",
       "        vertical-align: middle;\n",
       "    }\n",
       "\n",
       "    .dataframe tbody tr th {\n",
       "        vertical-align: top;\n",
       "    }\n",
       "\n",
       "    .dataframe thead th {\n",
       "        text-align: right;\n",
       "    }\n",
       "</style>\n",
       "<table border=\"1\" class=\"dataframe\">\n",
       "  <thead>\n",
       "    <tr style=\"text-align: right;\">\n",
       "      <th></th>\n",
       "      <th>id</th>\n",
       "      <th>name</th>\n",
       "      <th>car</th>\n",
       "      <th>credit</th>\n",
       "    </tr>\n",
       "  </thead>\n",
       "  <tbody>\n",
       "    <tr>\n",
       "      <th>0</th>\n",
       "      <td>1006</td>\n",
       "      <td>jake</td>\n",
       "      <td>tingo</td>\n",
       "      <td>80</td>\n",
       "    </tr>\n",
       "    <tr>\n",
       "      <th>1</th>\n",
       "      <td>1001</td>\n",
       "      <td>ben</td>\n",
       "      <td>mercedes-benz</td>\n",
       "      <td>95</td>\n",
       "    </tr>\n",
       "    <tr>\n",
       "      <th>2</th>\n",
       "      <td>1003</td>\n",
       "      <td>suzzy</td>\n",
       "      <td>venza</td>\n",
       "      <td>75</td>\n",
       "    </tr>\n",
       "  </tbody>\n",
       "</table>\n",
       "</div>"
      ],
      "text/plain": [
       "     id   name            car  credit\n",
       "0  1006   jake          tingo      80\n",
       "1  1001    ben  mercedes-benz      95\n",
       "2  1003  suzzy          venza      75"
      ]
     },
     "execution_count": 63,
     "metadata": {},
     "output_type": "execute_result"
    }
   ],
   "source": [
    "df3 = pd.merge(df2, df1, on=\"id\")\n",
    "df3"
   ]
  },
  {
   "cell_type": "code",
   "execution_count": null,
   "id": "dd53b7c5",
   "metadata": {},
   "outputs": [],
   "source": [
    "###Recursive functions\n",
    "### Pandas \n",
    "### Date time libraries\n",
    "\n",
    "\n",
    "##classes\n",
    "### integrating python to postgresl ==> ETL/LTE"
   ]
  }
 ],
 "metadata": {
  "kernelspec": {
   "display_name": "Python 3 (ipykernel)",
   "language": "python",
   "name": "python3"
  },
  "language_info": {
   "codemirror_mode": {
    "name": "ipython",
    "version": 3
   },
   "file_extension": ".py",
   "mimetype": "text/x-python",
   "name": "python",
   "nbconvert_exporter": "python",
   "pygments_lexer": "ipython3",
   "version": "3.9.7"
  }
 },
 "nbformat": 4,
 "nbformat_minor": 5
}
