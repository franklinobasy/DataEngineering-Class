{
  "nbformat": 4,
  "nbformat_minor": 0,
  "metadata": {
    "colab": {
      "provenance": []
    },
    "kernelspec": {
      "name": "python3",
      "display_name": "Python 3"
    },
    "language_info": {
      "name": "python"
    }
  },
  "cells": [
    {
      "cell_type": "markdown",
      "source": [
        "# Assignment"
      ],
      "metadata": {
        "id": "sutBABa_c7X5"
      }
    },
    {
      "cell_type": "markdown",
      "source": [
        "## Problem 1\n",
        "Write a program that generates and print 50 random integers, each between 3 and 6"
      ],
      "metadata": {
        "id": "fKsVnBj0dDrH"
      }
    },
    {
      "cell_type": "code",
      "source": [
        "from random import randint\n",
        "\n",
        "def random_integer_3_and_6(i=0, n=50):\n",
        "  if i == n:\n",
        "    return\n",
        "  # uncomment next line to see count \n",
        "  # print(randint(3, 6), \"----count\", i+1)\n",
        "  print(randint(3, 6))\n",
        "  i+=1\n",
        "  random_integer_3_and_6(i)\n",
        "\n",
        "\n",
        "random_integer_3_and_6()\n"
      ],
      "metadata": {
        "id": "BUvO9P9Rb3-7"
      },
      "execution_count": null,
      "outputs": []
    },
    {
      "cell_type": "markdown",
      "source": [
        "## Problem 2\n",
        "Write a program that generates a random number, x, between 1 and 50, a random number y between 2 and 5, and computes x ^ y"
      ],
      "metadata": {
        "id": "7uddExvTfAmw"
      }
    },
    {
      "cell_type": "code",
      "source": [
        "def random_number_exp():\n",
        "  x = randint(1, 50)\n",
        "  y = randint(2, 5)\n",
        "  return f\"{x} ^ {y} = {x**y}\" \n",
        "\n",
        "print(random_number_exp())"
      ],
      "metadata": {
        "colab": {
          "base_uri": "https://localhost:8080/",
          "height": 0
        },
        "id": "_6gFrVTNeW1F",
        "outputId": "40b8a703-4206-4c21-ad58-6561184bb9f2"
      },
      "execution_count": 13,
      "outputs": [
        {
          "output_type": "stream",
          "name": "stdout",
          "text": [
            "10 ^ 5 = 100000\n"
          ]
        }
      ]
    },
    {
      "cell_type": "markdown",
      "source": [
        "## Problem 3\n",
        "\n",
        "Write a program that generates a random number between 1 and 10 and prints your name that many times"
      ],
      "metadata": {
        "id": "CJhPHkxXjIgO"
      }
    },
    {
      "cell_type": "code",
      "source": [
        "def print_n_names(name=\"franklin\"):\n",
        "  n = randint(1, 10)\n",
        "  counter = 1\n",
        "  while counter <= n:\n",
        "    print(name)\n",
        "    counter +=1\n",
        "\n",
        "print_n_names()"
      ],
      "metadata": {
        "id": "MqMl7_B_jEAj"
      },
      "execution_count": null,
      "outputs": []
    },
    {
      "cell_type": "markdown",
      "source": [
        "## Problem 4\n",
        "Write a program that generates a random decimal number between 1 and 10\n",
        "with two decimal places of accuracy. Examples are 1.23, 3.45, 9.80 and 5.00"
      ],
      "metadata": {
        "id": "diomXPVDkxSN"
      }
    },
    {
      "cell_type": "code",
      "source": [
        "from random import random\n",
        "\n",
        "def random_2_decimal():\n",
        "  return round(random() * 10, 2)\n",
        "\n",
        "random_2_decimal()"
      ],
      "metadata": {
        "colab": {
          "base_uri": "https://localhost:8080/",
          "height": 0
        },
        "id": "2CH0By7qkg_Q",
        "outputId": "4af584f8-6daf-4cba-cb0e-17d4c249fca2"
      },
      "execution_count": 23,
      "outputs": [
        {
          "output_type": "execute_result",
          "data": {
            "text/plain": [
              "9.76"
            ]
          },
          "metadata": {},
          "execution_count": 23
        }
      ]
    },
    {
      "cell_type": "markdown",
      "source": [
        "## Problem 5\n",
        "Write a program that generates 50 random numbers such that the first number is between 1 and 2, second is between 1 nad 3, the third is beween 1 and 4, ...., and last is between 1 and 51."
      ],
      "metadata": {
        "id": "NXS7xEuJmKK-"
      }
    },
    {
      "cell_type": "code",
      "source": [
        "def one_and_random(start=1, end=50):\n",
        "  if start > end:\n",
        "    # uncomment nextline to see counter\n",
        "    # print(randint(1, start), f\" ------{start}\")\n",
        "    print(randint(1, start))\n",
        "    return\n",
        "  # uncomment nextline to see counter\n",
        "  # print(randint(1, start + 1), f\" ------{start}\")\n",
        "  print(randint(1, start + 1))\n",
        "  start += 1\n",
        "  one_and_random(start=start)\n",
        "\n",
        "one_and_random()\n"
      ],
      "metadata": {
        "id": "T8uwU3Q3l2Jo"
      },
      "execution_count": null,
      "outputs": []
    },
    {
      "cell_type": "markdown",
      "source": [
        "## Problem 6\n",
        "Write a program that asks the user to enter two numbers, x and y, and compute $$ \\frac{x - y}{x + y} $$"
      ],
      "metadata": {
        "id": "EGKqyYrppV4w"
      }
    },
    {
      "cell_type": "code",
      "source": [
        "def division():\n",
        "  x = float(input(\"Enter x = \"))\n",
        "  y = float(input(\"Enter y = \"))\n",
        "  return (x - y)/(x + y)\n",
        "\n",
        "\n",
        "print(division())"
      ],
      "metadata": {
        "id": "NAmFTC9Zp-7j"
      },
      "execution_count": null,
      "outputs": []
    },
    {
      "cell_type": "markdown",
      "source": [
        "## Problem 7\n",
        "write a program that asks the user to enter an angle between -180° and 180°. Using an expression with the modulo operator,convert the angle to its equivalent between 0° and 360°"
      ],
      "metadata": {
        "id": "qWoELs6RrKxQ"
      }
    },
    {
      "cell_type": "code",
      "source": [
        "def equivalent_deg(angle):\n",
        "  if angle >= -180 and angle <= 180:\n",
        "    return angle % 360\n",
        "  return 'error'\n",
        "\n",
        "equivalent_deg(180)"
      ],
      "metadata": {
        "colab": {
          "base_uri": "https://localhost:8080/",
          "height": 0
        },
        "id": "U5dqtYLhrI9i",
        "outputId": "3c595b62-6890-4f08-d306-bf2215d7b5e3"
      },
      "execution_count": 36,
      "outputs": [
        {
          "output_type": "execute_result",
          "data": {
            "text/plain": [
              "180"
            ]
          },
          "metadata": {},
          "execution_count": 36
        }
      ]
    },
    {
      "cell_type": "markdown",
      "source": [
        "## Problem 8\n",
        "Write a program that asks the user for a number of seconds and prints out bow many minute and seconds that is. For instance, 200 seconds is 3 minutes and 20 seconds. [Hint: use the // operator to get the minutes and the % operator to get seconds.]"
      ],
      "metadata": {
        "id": "qjC5r6ifsWPf"
      }
    },
    {
      "cell_type": "code",
      "source": [
        "def secs_to_mins_sec(seconds):\n",
        "  return f\"{seconds // 60} minutes and {seconds % 60} seconds\"\n",
        "\n",
        "secs_to_mins_sec(200)"
      ],
      "metadata": {
        "colab": {
          "base_uri": "https://localhost:8080/",
          "height": 35
        },
        "id": "iXUrM_n0ux6w",
        "outputId": "19f0885b-81e7-49d4-ea1f-d8532fae306b"
      },
      "execution_count": 38,
      "outputs": [
        {
          "output_type": "execute_result",
          "data": {
            "text/plain": [
              "'3 minutes and 20 seconds'"
            ],
            "application/vnd.google.colaboratory.intrinsic+json": {
              "type": "string"
            }
          },
          "metadata": {},
          "execution_count": 38
        }
      ]
    },
    {
      "cell_type": "markdown",
      "source": [
        "## Problem 9\n",
        "write a program tha asks the user for an hour between 1 and 12 and for how many hours in future they want to go. Print out what the hour wil be that many hours into the future. An example is shown below:\n",
        "\n",
        "```\n",
        "Enter hour: 8\n",
        "How many hour ahead? 5\n",
        "ew hour: 1 o'clock\n",
        "```"
      ],
      "metadata": {
        "id": "XNH8hruvvVpW"
      }
    },
    {
      "cell_type": "code",
      "source": [
        "def hours_ahead():\n",
        "  now = int(input(\"Enter hour: \"))\n",
        "  ahead = int(input(\"How many hour ahead? \"))\n",
        "  print(f\"New hour: {(now + ahead) % 12} o'clock\")\n",
        "\n",
        "hours_ahead()"
      ],
      "metadata": {
        "id": "DZY220fcuzJ6"
      },
      "execution_count": null,
      "outputs": []
    },
    {
      "cell_type": "markdown",
      "source": [
        "## Problem 10"
      ],
      "metadata": {
        "id": "4c5ZsrELxHNw"
      }
    },
    {
      "cell_type": "markdown",
      "source": [
        "### 10a.\n",
        "One way to find out the last digit of a number is to mod the number by 10. write a program that asks the user to enter a power. Then find the last digit of 2 raised to that power\n"
      ],
      "metadata": {
        "id": "1hqjlrtXx0_Z"
      }
    },
    {
      "cell_type": "code",
      "source": [
        "def last_digit():\n",
        "  power = int(input(\"Enter power: \"))\n",
        "  return str((2**power) % 10)\n",
        "\n",
        "print(last_digit())\n"
      ],
      "metadata": {
        "id": "mx78RO0W2hQF"
      },
      "execution_count": null,
      "outputs": []
    },
    {
      "cell_type": "markdown",
      "source": [
        "### 10b.\n",
        "One way to find ou the last two digit of a number is to mod the number by 100. Write  aprohram thar asks the user to enter a  power. The find the last two digirs of 2 raised to that power"
      ],
      "metadata": {
        "id": "wTEO2gOfx7Pw"
      }
    },
    {
      "cell_type": "code",
      "source": [
        "def last_2_digit():\n",
        "  power = int(input(\"Enter power: \"))\n",
        "  return str((2**power) % 100)\n",
        "\n",
        "print(last_2_digit())"
      ],
      "metadata": {
        "id": "d2YLDPHf3T19"
      },
      "execution_count": null,
      "outputs": []
    },
    {
      "cell_type": "markdown",
      "source": [
        "### 10c.\n",
        "Write a program that ask the user to enter a power and how many digit they want. Find the last that may digits of 2 raised to power the power the user entered."
      ],
      "metadata": {
        "id": "Oc_T4Doo2Ir4"
      }
    },
    {
      "cell_type": "code",
      "source": [
        "def last_n_digit():\n",
        "  power = int(input(\"Enter power: \"))\n",
        "  n = int(input(\"Enter number of last digits: \"))\n",
        "  return str((2**power) % 10**n)\n",
        "\n",
        "print(last_n_digit())"
      ],
      "metadata": {
        "id": "PCHZgJUSw22L"
      },
      "execution_count": null,
      "outputs": []
    },
    {
      "cell_type": "markdown",
      "source": [
        "## Problem 11\n",
        "Write a program that asks the user to enter a weight in kilograms. The program should convert it to punds, print the answer rounded to the nearest tenth of a pound"
      ],
      "metadata": {
        "id": "1pf5krv-4YnB"
      }
    },
    {
      "cell_type": "code",
      "source": [
        "def kg_to_lbs():\n",
        "  kg = float(input(\"Enter number in kg: \"))\n",
        "  return round(kg * 2.20462, 1)\n",
        "\n",
        "print(kg_to_lbs())"
      ],
      "metadata": {
        "id": "1yI9LwCM4FKm"
      },
      "execution_count": null,
      "outputs": []
    },
    {
      "cell_type": "markdown",
      "source": [
        "## Problem 12\n",
        "Write a program that asks the user for a number and prints out the factorial of that number"
      ],
      "metadata": {
        "id": "zAhF2YLM7oUI"
      }
    },
    {
      "cell_type": "code",
      "source": [
        "def compute_factorial():\n",
        "  num = int(input(\"Enter number\"))\n",
        "  def factorial(n):\n",
        "    if n == 1:\n",
        "      return 1\n",
        "    return n * factorial(n - 1)\n",
        "\n",
        "  print(factorial(num))\n",
        "\n",
        "compute_factorial()"
      ],
      "metadata": {
        "id": "LFeEvrEi78Gw"
      },
      "execution_count": null,
      "outputs": []
    },
    {
      "cell_type": "markdown",
      "source": [
        "## Problem 13\n",
        "Write a program that asks the user for a number and prints out the sine, cosine and tangent of that number"
      ],
      "metadata": {
        "id": "K5WgHcU25lhv"
      }
    },
    {
      "cell_type": "code",
      "source": [
        "import math\n",
        "\n",
        "def trig():\n",
        "  angle = float(input(\"Enter angle: \"))\n",
        "  print(f\"sine({angle}) = {math.sin(angle)}\")\n",
        "  print(f\"cosine({angle}) = {math.cos(angle)}\")\n",
        "  print(f\"tangent({angle}) = {math.tan(angle)}\")\n",
        "\n",
        "trig()"
      ],
      "metadata": {
        "id": "YgLPtNY757hj"
      },
      "execution_count": null,
      "outputs": []
    },
    {
      "cell_type": "markdown",
      "source": [
        "## Problem 14\n",
        "Write a program that asks the user to engenter an angle in degrees and prints the sine of that angle"
      ],
      "metadata": {
        "id": "BfWFWp107j3Q"
      }
    },
    {
      "cell_type": "code",
      "source": [
        "def sine_trig():\n",
        "  angle = float(input(\"Enter angle in degrees: \"))\n",
        "  print(f\"sine({angle}) in degrees = {math.sin(angle * math.pi / 180)}\")\n",
        "\n",
        "sine_trig()"
      ],
      "metadata": {
        "id": "zZxXpYnI6Vuf"
      },
      "execution_count": null,
      "outputs": []
    },
    {
      "cell_type": "markdown",
      "source": [
        "## Problem 15\n",
        "Write a program that asks the user to enter a length in centimeters. If the user enters a negative length, the program should tell the userthat the entry is invalid. Otherwise, the program should convert the length to inches and print out the results. There are 2.54 centimeters in an inch"
      ],
      "metadata": {
        "id": "DGU8E-oy-Kpb"
      }
    },
    {
      "cell_type": "code",
      "source": [
        "def cm_to_in():\n",
        "  cm = float(input(\"Enter number in cm: \"))\n",
        "  if cm < 0:\n",
        "    print(\"invalid, num should be a positive value\")\n",
        "    return None\n",
        "\n",
        "  return cm / 2.54\n",
        "\n",
        "cm_to_in()\n"
      ],
      "metadata": {
        "id": "oOUL4ysh9SJ2"
      },
      "execution_count": null,
      "outputs": []
    },
    {
      "cell_type": "markdown",
      "source": [
        "## Problem 16\n",
        "Ask the user for a temperature. Then ask them what units, Celsius or fahrenheit, the temperature is in. Your program should convert teh temperature to other unit.\n",
        "$$\n",
        "F = \\frac{9c}{5} + 32\n",
        "$$\n",
        "$$\n",
        "C  = \\frac{5}{9} (F - 32)\n",
        "$$"
      ],
      "metadata": {
        "id": "LpK_uJRy_nrd"
      }
    },
    {
      "cell_type": "code",
      "source": [
        "\n",
        "def temperature_convert():\n",
        "  t = float(input(\"Enter temperature = \"))\n",
        "  u = input(\"Enter unit of temperature (Celsius / fahrenheit): \")\n",
        "  if u[0].lower() == 'c':\n",
        "    new_t = (9 / 5) * t + 32\n",
        "  elif u[0].lower() == 'f':\n",
        "    new_t = 5 * (t -32) / 9\n",
        "  else:\n",
        "    print(\"invalid unit\")\n",
        "    return None\n",
        "  return new_t\n",
        "\n",
        "temperature_convert()\n"
      ],
      "metadata": {
        "id": "H3mmxIpe_khI"
      },
      "execution_count": null,
      "outputs": []
    },
    {
      "cell_type": "markdown",
      "source": [
        "## Problem 17\n",
        "Ask the user to enter a temperature in Celsius. The program should print a message based on the temperature:\n",
        "\n",
        "\n",
        "1.   if the temperature is less than -273.15, print that the temperature is invalid because it is below absolute zero.\n",
        "\n",
        "2.   if it is exactly -273.15, print that the temperature is absolute 0.\n",
        "\n",
        "3.   if the temperature is between -273.17 and 0, print that the temperature is below freezing\n",
        "\n",
        "4. if it is 0, print temperature is at the freezing point.\n",
        "\n",
        "5. if it is between 0 and 100, print that the temperature is in the normal range.\n",
        "\n",
        "6. if it is 100, print that the temperature is at the boiling point.\n",
        "\n",
        "7. if it is above 100, print that the temperature is above the boiling point.\n",
        "\n"
      ],
      "metadata": {
        "id": "LmOu2-IGCqSV"
      }
    },
    {
      "cell_type": "code",
      "source": [
        "def check_temperature():\n",
        "  t = float(input(\"Enter temperature in Celcius: \"))\n",
        "\n",
        "  if t < -273.15:\n",
        "    print(\"temperature is invalid because it is below absolute zero\")\n",
        "\n",
        "  elif t == -273.15:\n",
        "    print(\"temperature is absolute 0\")\n",
        "\n",
        "  elif t > -273.15 and t < 0:\n",
        "    print(\"temperature is below freezing\")\n",
        "\n",
        "  elif t == 0:\n",
        "    print(\"temperature is at the freezing point\")\n",
        "\n",
        "  elif t > 0 and t < 100:\n",
        "    print(\"temperature is in the normal range\")\n",
        "\n",
        "  elif t == 100:\n",
        "    print(\"temperature is at the boiling point\")\n",
        "\n",
        "  elif t > 100:\n",
        "    print(\"temperature is above the boiling point\")\n",
        "\n",
        "check_temperature()"
      ],
      "metadata": {
        "id": "7p6XjcxECZmo"
      },
      "execution_count": null,
      "outputs": []
    },
    {
      "cell_type": "markdown",
      "source": [
        "## Problem 18\n",
        "Write a program that asks the user how many credits they have taken. If they have taken 23 or less, print that the student is a freshman. If they have taken 24 and 53, print that they are a sophomore. The range for juniors is 54 to 83, and for seniors is 84 and over."
      ],
      "metadata": {
        "id": "ihep1dnxFuPf"
      }
    },
    {
      "cell_type": "code",
      "source": [
        "def student_level():\n",
        "  credits = int(input(\"How many credits have you taken: \"))\n",
        "\n",
        "  if credits <= 23:\n",
        "    print(\"You are a freshman\")\n",
        "  \n",
        "  elif credits >= 24 and credits <= 53:\n",
        "    print(\"You are a sophomore\")\n",
        "\n",
        "  elif credits >= 54 and credits <= 83:\n",
        "    print(\"You are a junior\")\n",
        "\n",
        "  elif credits >= 84:\n",
        "    print(\"You are a senior\")\n",
        "\n",
        "student_level()"
      ],
      "metadata": {
        "id": "Bmjd1IBRFnrV"
      },
      "execution_count": null,
      "outputs": []
    },
    {
      "cell_type": "markdown",
      "source": [
        "## Problem 19\n",
        "\n",
        "Write a program that asks the user to enter a number and prints the sum of the divisors of that number. The sum of the divisors of a number is an important function in number theory."
      ],
      "metadata": {
        "id": "iWFSda5rHX9i"
      }
    },
    {
      "cell_type": "code",
      "source": [
        "# sum of all the divisors of a number including the number\n",
        "def sum_factors():\n",
        "  num = int(input(\"Enter number: \"))\n",
        "  def sum_list_of_factors(n, i=1, l=[]):\n",
        "    if i > n:\n",
        "      return sum(l)\n",
        "    if n % i == 0:\n",
        "      l.append(i)\n",
        "    i += 1\n",
        "    return sum_list_of_factors(n, i, l)\n",
        "  print(sum_list_of_factors(num))\n",
        "\n",
        "sum_factors()\n",
        "  "
      ],
      "metadata": {
        "id": "bmwQpEPqHSJs"
      },
      "execution_count": null,
      "outputs": []
    },
    {
      "cell_type": "markdown",
      "source": [
        "## Problem 20\n",
        "\n",
        "A number is called a *perfect number* if it is equal to the sum of all of its divisors, not including the number itself. Write a program that finds all the four of the perfect numbers that are less than 10000."
      ],
      "metadata": {
        "id": "sRJg6B1hKZn6"
      }
    },
    {
      "cell_type": "code",
      "source": [
        "import sys\n",
        "\n",
        "## upgraded recursion limit [Causion!!]\n",
        "sys.setrecursionlimit(10**6)\n",
        "\n",
        "def sum_list_of_factors(n, i=1, l=[]):\n",
        "    '''\n",
        "    Sums all the factors of a number n, excluding n\n",
        "    '''\n",
        "    if i == n:\n",
        "      return sum(l)\n",
        "    if n % i == 0:\n",
        "      l.append(i)\n",
        "    i += 1\n",
        "    return sum_list_of_factors(n, i, l)\n",
        "\n",
        "\n",
        "def find_perfect_number(start, end):\n",
        "    perfect_number = []\n",
        "    while start <= end:\n",
        "      if start == sum_list_of_factors(start, 1, []):\n",
        "        perfect_number.append(start)\n",
        "      \n",
        "      start += 1\n",
        "    \n",
        "    return perfect_number\n",
        "\n",
        "\n",
        "find_perfect_number(2, 10000)\n"
      ],
      "metadata": {
        "colab": {
          "base_uri": "https://localhost:8080/",
          "height": 0
        },
        "id": "N0-jDAm_KI4-",
        "outputId": "12f47265-e06e-435a-f7e0-75fe627866a2"
      },
      "execution_count": 112,
      "outputs": [
        {
          "output_type": "execute_result",
          "data": {
            "text/plain": [
              "[6, 28, 496, 8128]"
            ]
          },
          "metadata": {},
          "execution_count": 112
        }
      ]
    },
    {
      "cell_type": "markdown",
      "source": [
        "## Problem 21\n",
        "An integer is called squarefree if it is not diviible by any perfect squares other than 1. Write a program that asks the user for an integer and tells them if it is a squarefree or not"
      ],
      "metadata": {
        "id": "yuLJVpNlY5Up"
      }
    },
    {
      "cell_type": "code",
      "source": [
        "import math\n",
        "\n",
        "def is_perfect_square(num):\n",
        "  '''\n",
        "  returns True if num is a perfect square else False\n",
        "  '''\n",
        "  sqrt = str(num ** 0.5)\n",
        "  sqrt = sqrt.split(\".\")\n",
        "  if len(sqrt[1]) > 1:\n",
        "    return False\n",
        "  if sqrt[1] != '0':\n",
        "    return False\n",
        "  return True\n",
        "\n",
        "def is_factor(num, test):\n",
        "  '''\n",
        "  returns True if test is a factor of num\n",
        "  '''\n",
        "  return True if num % test == 0 else False\n",
        "\n",
        "def is_squarefree(num):\n",
        "  '''\n",
        "  Returns True if num is squarefree else false\n",
        "  '''\n",
        "\n",
        "  i = 2\n",
        "  while i <= num:\n",
        "    if is_factor(num, i) and is_perfect_square(i):\n",
        "        return False\n",
        "    i += 1\n",
        "  return True\n",
        "\n",
        "is_squarefree(45)"
      ],
      "metadata": {
        "id": "NdiUz9qzVODQ"
      },
      "execution_count": null,
      "outputs": []
    },
    {
      "cell_type": "markdown",
      "source": [
        "## Problem 22\n",
        "Write a program that swaps the values of variables x, y and z, so that x gets the value of y, y gets the value of z, and z gets the value of x."
      ],
      "metadata": {
        "id": "eqdjWf_ogeTW"
      }
    },
    {
      "cell_type": "code",
      "source": [
        "def swap(x, y, z):\n",
        "  print(\"Before swap:\")\n",
        "  print(f\"x is {x}\")\n",
        "  print(f\"y is {y}\")\n",
        "  print(f\"z is {z}\")\n",
        "  x, y, z = y, z, x\n",
        "  print(\"After swap:\")\n",
        "  print(f\"x is {x}\")\n",
        "  print(f\"y is {y}\")\n",
        "  print(f\"z is {z}\")\n",
        "\n",
        "swap(2, 3, 4)\n"
      ],
      "metadata": {
        "id": "Z10QusGnaP4b"
      },
      "execution_count": null,
      "outputs": []
    },
    {
      "cell_type": "markdown",
      "source": [
        "## Problem 23\n",
        "Write a Program to count how many integers from 1 to 1000 are not perfect squares, perfect cubes, or perfect fifth."
      ],
      "metadata": {
        "id": "KnT6P5x1hyDx"
      }
    },
    {
      "cell_type": "code",
      "source": [
        "def is_perfect_n(num, n):\n",
        "  '''\n",
        "  returns True if num is a perfect n else False\n",
        "  '''\n",
        "  sqrt = str(num ** (1/n))\n",
        "  sqrt = sqrt.split(\".\")\n",
        "  if len(sqrt[1]) > 1:\n",
        "    return False\n",
        "  if sqrt[1] != '0':\n",
        "    return False\n",
        "  return True\n",
        "\n",
        "not_perfect = []\n",
        "for i in range(1, 1001):\n",
        "  if not (is_perfect_n(i, 2) or is_perfect_n(i, 3) or is_perfect_n(i, 5)):\n",
        "    not_perfect.append(i)\n",
        "\n",
        "print(len(not_perfect))\n",
        "\n"
      ],
      "metadata": {
        "id": "rj6bWNz1o_gX"
      },
      "execution_count": null,
      "outputs": []
    },
    {
      "cell_type": "markdown",
      "source": [
        "## Problem 24\n",
        "Ask the user to enter 10 test scores. Write a program to do the following:\n",
        "\n",
        "a. Print out the highest and lowest scores\n",
        "\n",
        "b. Print out the average of the score\n",
        "\n",
        "c. Print out the second largest score\n",
        "\n",
        "d. If any of the scores is greater than 100, then after all the scores have been entered, print a mesage warning the user that a value over 100 has been entered\n",
        "\n",
        "e. Drop the two lowest scores and print the average of the rest of them.\n"
      ],
      "metadata": {
        "id": "zq_DZ6i3rZmo"
      }
    },
    {
      "cell_type": "code",
      "source": [
        "scores = input(\"Enter 10 test scores separated by space: \")\n",
        "\n",
        "scores = [float(i.strip()) for i in scores.strip().split(\" \")]\n",
        "if len(scores) != 10:\n",
        "  print(\"Must enter 10 scores\")\n",
        "else:\n",
        "  print(\"The highest and lowest scores are: \")\n",
        "  print(f\"Highest - {max(scores)}\")\n",
        "  print(f\"Lowest - {min(scores)}\")\n",
        "  print()\n",
        "  print(\"Average score: \")\n",
        "  print(sum(scores)/len(scores))\n",
        "  print()\n",
        "  print(\"second Largest: \")\n",
        "  print(sorted(scores)[-2])\n",
        "  print()\n",
        "  warn = False\n",
        "  for score in scores:\n",
        "    if score > 100:\n",
        "      warn = True\n",
        "\n",
        "  if warn:\n",
        "    print(\"Warning, a score is greater than 100\")\n",
        "\n",
        "  print()\n",
        "  new_scores = sorted(scores)[2:]\n",
        "  print(\"Average of new scores: \")\n",
        "  print(sum(new_scores) / len(scores))"
      ],
      "metadata": {
        "id": "eHjMReNgtMGC"
      },
      "execution_count": null,
      "outputs": []
    }
  ]
}