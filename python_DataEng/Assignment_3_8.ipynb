{
  "nbformat": 4,
  "nbformat_minor": 0,
  "metadata": {
    "colab": {
      "provenance": []
    },
    "kernelspec": {
      "name": "python3",
      "display_name": "Python 3"
    },
    "language_info": {
      "name": "python"
    }
  },
  "cells": [
    {
      "cell_type": "markdown",
      "source": [
        "# Assignment"
      ],
      "metadata": {
        "id": "sutBABa_c7X5"
      }
    },
    {
      "cell_type": "markdown",
      "source": [
        "## Problem 1\n",
        "Write a program that generates and print 50 random integers, each between 3 and 6"
      ],
      "metadata": {
        "id": "fKsVnBj0dDrH"
      }
    },
    {
      "cell_type": "code",
      "source": [
        "from random import randint\n",
        "\n",
        "def random_integer_3_and_6(i=0, n=50):\n",
        "  if i == n:\n",
        "    return\n",
        "  # uncomment next line to see count \n",
        "  # print(randint(3, 6), \"----count\", i+1)\n",
        "  print(randint(3, 6))\n",
        "  i+=1\n",
        "  random_integer_3_and_6(i)\n",
        "\n",
        "\n",
        "random_integer_3_and_6()\n"
      ],
      "metadata": {
        "id": "BUvO9P9Rb3-7"
      },
      "execution_count": null,
      "outputs": []
    },
    {
      "cell_type": "markdown",
      "source": [
        "## Problem 2\n",
        "Write a program that generates a random number, x, between 1 and 50, a random number y between 2 and 5, and computes x ^ y"
      ],
      "metadata": {
        "id": "7uddExvTfAmw"
      }
    },
    {
      "cell_type": "code",
      "source": [
        "def random_number_exp():\n",
        "  x = randint(1, 50)\n",
        "  y = randint(2, 5)\n",
        "  return f\"{x} ^ {y} = {x**y}\" \n",
        "\n",
        "print(random_number_exp())"
      ],
      "metadata": {
        "colab": {
          "base_uri": "https://localhost:8080/",
          "height": 0
        },
        "id": "_6gFrVTNeW1F",
        "outputId": "40b8a703-4206-4c21-ad58-6561184bb9f2"
      },
      "execution_count": 13,
      "outputs": [
        {
          "output_type": "stream",
          "name": "stdout",
          "text": [
            "10 ^ 5 = 100000\n"
          ]
        }
      ]
    },
    {
      "cell_type": "markdown",
      "source": [
        "## Problem 3\n",
        "\n",
        "Write a program that generates a random number between 1 and 10 and prints your name that many times"
      ],
      "metadata": {
        "id": "CJhPHkxXjIgO"
      }
    },
    {
      "cell_type": "code",
      "source": [
        "def print_n_names(name=\"franklin\"):\n",
        "  n = randint(1, 10)\n",
        "  counter = 1\n",
        "  while counter <= n:\n",
        "    print(name)\n",
        "    counter +=1\n",
        "\n",
        "print_n_names()"
      ],
      "metadata": {
        "id": "MqMl7_B_jEAj"
      },
      "execution_count": null,
      "outputs": []
    },
    {
      "cell_type": "markdown",
      "source": [
        "## Problem 4\n",
        "Write a program that generates a random decimal number between 1 and 10\n",
        "with two decimal places of accuracy. Examples are 1.23, 3.45, 9.80 and 5.00"
      ],
      "metadata": {
        "id": "diomXPVDkxSN"
      }
    },
    {
      "cell_type": "code",
      "source": [
        "from random import random\n",
        "\n",
        "def random_2_decimal():\n",
        "  return round(random() * 10, 2)\n",
        "\n",
        "random_2_decimal()"
      ],
      "metadata": {
        "colab": {
          "base_uri": "https://localhost:8080/",
          "height": 0
        },
        "id": "2CH0By7qkg_Q",
        "outputId": "4af584f8-6daf-4cba-cb0e-17d4c249fca2"
      },
      "execution_count": 23,
      "outputs": [
        {
          "output_type": "execute_result",
          "data": {
            "text/plain": [
              "9.76"
            ]
          },
          "metadata": {},
          "execution_count": 23
        }
      ]
    },
    {
      "cell_type": "markdown",
      "source": [
        "## Problem 5\n",
        "Write a program that generates 50 random numbers such that the first number is between 1 and 2, second is between 1 nad 3, the third is beween 1 and 4, ...., and last is between 1 and 51."
      ],
      "metadata": {
        "id": "NXS7xEuJmKK-"
      }
    },
    {
      "cell_type": "code",
      "source": [
        "def one_and_random(start=1, end=50):\n",
        "  if start > end:\n",
        "    # uncomment nextline to see counter\n",
        "    # print(randint(1, start), f\" ------{start}\")\n",
        "    print(randint(1, start))\n",
        "    return\n",
        "  # uncomment nextline to see counter\n",
        "  # print(randint(1, start + 1), f\" ------{start}\")\n",
        "  print(randint(1, start + 1))\n",
        "  start += 1\n",
        "  one_and_random(start=start)\n",
        "\n",
        "one_and_random()\n"
      ],
      "metadata": {
        "id": "T8uwU3Q3l2Jo"
      },
      "execution_count": null,
      "outputs": []
    },
    {
      "cell_type": "markdown",
      "source": [
        "## Problem 6\n",
        "Write a program that asks the user to enter two numbers, x and y, and compute $$ \\frac{x - y}{x + y} $$"
      ],
      "metadata": {
        "id": "EGKqyYrppV4w"
      }
    },
    {
      "cell_type": "code",
      "source": [
        "def division():\n",
        "  x = float(input(\"Enter x = \"))\n",
        "  y = float(input(\"Enter y = \"))\n",
        "  return (x - y)/(x + y)\n",
        "\n",
        "\n",
        "print(division())"
      ],
      "metadata": {
        "id": "NAmFTC9Zp-7j"
      },
      "execution_count": null,
      "outputs": []
    },
    {
      "cell_type": "markdown",
      "source": [
        "## Problem 7\n",
        "write a program that asks the user to enter an angle between -180° and 180°. Using an expression with the modulo operator,convert the angle to its equivalent between 0° and 360°"
      ],
      "metadata": {
        "id": "qWoELs6RrKxQ"
      }
    },
    {
      "cell_type": "code",
      "source": [
        "def equivalent_deg(angle):\n",
        "  if angle >= -180 and angle <= 180:\n",
        "    return angle % 360\n",
        "  return 'error'\n",
        "\n",
        "equivalent_deg(180)"
      ],
      "metadata": {
        "colab": {
          "base_uri": "https://localhost:8080/",
          "height": 0
        },
        "id": "U5dqtYLhrI9i",
        "outputId": "3c595b62-6890-4f08-d306-bf2215d7b5e3"
      },
      "execution_count": 36,
      "outputs": [
        {
          "output_type": "execute_result",
          "data": {
            "text/plain": [
              "180"
            ]
          },
          "metadata": {},
          "execution_count": 36
        }
      ]
    },
    {
      "cell_type": "markdown",
      "source": [
        "## Problem 8\n",
        "Write a program that asks the user for a number of seconds and prints out bow many minute and seconds that is. For instance, 200 seconds is 3 minutes and 20 seconds. [Hint: use the // operator to get the minutes and the % operator to get seconds.]"
      ],
      "metadata": {
        "id": "qjC5r6ifsWPf"
      }
    },
    {
      "cell_type": "code",
      "source": [
        "def secs_to_mins_sec(seconds):\n",
        "  return f\"{seconds // 60} minutes and {seconds % 60} seconds\"\n",
        "\n",
        "secs_to_mins_sec(200)"
      ],
      "metadata": {
        "colab": {
          "base_uri": "https://localhost:8080/",
          "height": 35
        },
        "id": "iXUrM_n0ux6w",
        "outputId": "19f0885b-81e7-49d4-ea1f-d8532fae306b"
      },
      "execution_count": 38,
      "outputs": [
        {
          "output_type": "execute_result",
          "data": {
            "text/plain": [
              "'3 minutes and 20 seconds'"
            ],
            "application/vnd.google.colaboratory.intrinsic+json": {
              "type": "string"
            }
          },
          "metadata": {},
          "execution_count": 38
        }
      ]
    },
    {
      "cell_type": "markdown",
      "source": [
        "## Problem 9\n",
        "write a program tha asks the user for an hour between 1 and 12 and for how many hours in future they want to go. Print out what the hour wil be that many hours into the future. An example is shown below:\n",
        "\n",
        "```\n",
        "Enter hour: 8\n",
        "How many hour ahead? 5\n",
        "ew hour: 1 o'clock\n",
        "```"
      ],
      "metadata": {
        "id": "XNH8hruvvVpW"
      }
    },
    {
      "cell_type": "code",
      "source": [
        "def hours_ahead():\n",
        "  now = int(input(\"Enter hour: \"))\n",
        "  ahead = int(input(\"How many hour ahead? \"))\n",
        "  print(f\"New hour: {(now + ahead) % 12} o'clock\")\n",
        "\n",
        "hours_ahead()"
      ],
      "metadata": {
        "id": "DZY220fcuzJ6"
      },
      "execution_count": null,
      "outputs": []
    },
    {
      "cell_type": "markdown",
      "source": [
        "## Problem 10"
      ],
      "metadata": {
        "id": "4c5ZsrELxHNw"
      }
    },
    {
      "cell_type": "markdown",
      "source": [
        "### 10a.\n",
        "One way to find out the last digit of a number is to mod the number by 10. write a program that asks the user to enter a power. Then find the last digit of 2 raised to that power\n"
      ],
      "metadata": {
        "id": "1hqjlrtXx0_Z"
      }
    },
    {
      "cell_type": "code",
      "source": [
        "def last_digit():\n",
        "  power = int(input(\"Enter power: \"))\n",
        "  return str((2**power) % 10)\n",
        "\n",
        "print(last_digit())\n"
      ],
      "metadata": {
        "id": "mx78RO0W2hQF"
      },
      "execution_count": null,
      "outputs": []
    },
    {
      "cell_type": "markdown",
      "source": [
        "### 10b.\n",
        "One way to find ou the last two digit of a number is to mod the number by 100. Write  aprohram thar asks the user to enter a  power. The find the last two digirs of 2 raised to that power"
      ],
      "metadata": {
        "id": "wTEO2gOfx7Pw"
      }
    },
    {
      "cell_type": "code",
      "source": [
        "def last_2_digit():\n",
        "  power = int(input(\"Enter power: \"))\n",
        "  return str((2**power) % 100)\n",
        "\n",
        "print(last_2_digit())"
      ],
      "metadata": {
        "id": "d2YLDPHf3T19"
      },
      "execution_count": null,
      "outputs": []
    },
    {
      "cell_type": "markdown",
      "source": [
        "### 10c.\n",
        "Write a program that ask the user to enter a power and how many digit they want. Find the last that may digits of 2 raised to power the power the user entered."
      ],
      "metadata": {
        "id": "Oc_T4Doo2Ir4"
      }
    },
    {
      "cell_type": "code",
      "source": [
        "def last_n_digit():\n",
        "  power = int(input(\"Enter power: \"))\n",
        "  n = int(input(\"Enter number of last digits: \"))\n",
        "  return str((2**power) % 10**n)\n",
        "\n",
        "print(last_n_digit())"
      ],
      "metadata": {
        "id": "PCHZgJUSw22L"
      },
      "execution_count": null,
      "outputs": []
    },
    {
      "cell_type": "markdown",
      "source": [
        "## Problem 11\n",
        "Write a program that asks the user to enter a weight in kilograms. The program should convert it to punds, print the answer rounded to the nearest tenth of a pound"
      ],
      "metadata": {
        "id": "1pf5krv-4YnB"
      }
    },
    {
      "cell_type": "code",
      "source": [
        "def kg_to_lbs():\n",
        "  kg = float(input(\"Enter number in kg: \"))\n",
        "  return round(kg * 2.20462, 1)\n",
        "\n",
        "print(kg_to_lbs())"
      ],
      "metadata": {
        "id": "1yI9LwCM4FKm"
      },
      "execution_count": null,
      "outputs": []
    },
    {
      "cell_type": "markdown",
      "source": [
        "## Problem 12\n",
        "Write a program that asks the user for a number and prints out the factorial of that number"
      ],
      "metadata": {
        "id": "zAhF2YLM7oUI"
      }
    },
    {
      "cell_type": "code",
      "source": [
        "def compute_factorial():\n",
        "  num = int(input(\"Enter number\"))\n",
        "  def factorial(n):\n",
        "    if n == 1:\n",
        "      return 1\n",
        "    return n * factorial(n - 1)\n",
        "\n",
        "  print(factorial(num))\n",
        "\n",
        "compute_factorial()"
      ],
      "metadata": {
        "id": "LFeEvrEi78Gw"
      },
      "execution_count": null,
      "outputs": []
    },
    {
      "cell_type": "markdown",
      "source": [
        "## Problem 13\n",
        "Write a program that asks the user for a number and prints out the sine, cosine and tangent of that number"
      ],
      "metadata": {
        "id": "K5WgHcU25lhv"
      }
    },
    {
      "cell_type": "code",
      "source": [
        "import math\n",
        "\n",
        "def trig():\n",
        "  angle = float(input(\"Enter angle: \"))\n",
        "  print(f\"sine({angle}) = {math.sin(angle)}\")\n",
        "  print(f\"cosine({angle}) = {math.cos(angle)}\")\n",
        "  print(f\"tangent({angle}) = {math.tan(angle)}\")\n",
        "\n",
        "trig()"
      ],
      "metadata": {
        "id": "YgLPtNY757hj"
      },
      "execution_count": null,
      "outputs": []
    },
    {
      "cell_type": "markdown",
      "source": [
        "## Problem 14\n",
        "Write a program that asks the user to engenter an angle in degrees and prints the sine of that angle"
      ],
      "metadata": {
        "id": "BfWFWp107j3Q"
      }
    },
    {
      "cell_type": "code",
      "source": [
        "def sine_trig():\n",
        "  angle = float(input(\"Enter angle in degrees: \"))\n",
        "  print(f\"sine({angle}) in degrees = {math.sin(angle * math.pi / 180)}\")\n",
        "\n",
        "sine_trig()"
      ],
      "metadata": {
        "id": "zZxXpYnI6Vuf"
      },
      "execution_count": null,
      "outputs": []
    }
  ]
}