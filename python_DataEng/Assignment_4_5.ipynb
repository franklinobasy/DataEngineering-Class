{
  "nbformat": 4,
  "nbformat_minor": 0,
  "metadata": {
    "colab": {
      "provenance": []
    },
    "kernelspec": {
      "name": "python3",
      "display_name": "Python 3"
    },
    "language_info": {
      "name": "python"
    }
  },
  "cells": [
    {
      "cell_type": "markdown",
      "source": [
        "# Assignment"
      ],
      "metadata": {
        "id": "dG0DD_mdzszU"
      }
    },
    {
      "cell_type": "markdown",
      "source": [
        "## Problem 1\n",
        "Write a program that asks the user to enter a length in centimeters. If the user enters a negative length, the program should tell the userthat the entry is invalid. Otherwise, the program should convert the length to inches and print out the results. There are 2.54 centimeters in an inch"
      ],
      "metadata": {
        "id": "QiFh3s4fzw1p"
      }
    },
    {
      "cell_type": "code",
      "execution_count": null,
      "metadata": {
        "id": "O4-3jsA5zmya"
      },
      "outputs": [],
      "source": [
        "def cm_to_in():\n",
        "  cm = float(input(\"Enter number in cm: \"))\n",
        "  if cm < 0:\n",
        "    print(\"invalid, num should be a positive value\")\n",
        "    return None\n",
        "\n",
        "  return cm / 2.54\n",
        "\n",
        "cm_to_in()"
      ]
    },
    {
      "cell_type": "markdown",
      "source": [
        "## Problem 2\n",
        "Ask the user for a temperature. Then ask them what units, Celsius or fahrenheit, the temperature is in. Your program should convert teh temperature to other unit.\n",
        "$$\n",
        "F = \\frac{9c}{5} + 32\n",
        "$$\n",
        "$$\n",
        "C  = \\frac{5}{9} (F - 32)\n",
        "$$"
      ],
      "metadata": {
        "id": "UliUTMcKz-vD"
      }
    },
    {
      "cell_type": "code",
      "source": [
        "def temperature_convert():\n",
        "  t = float(input(\"Enter temperature = \"))\n",
        "  u = input(\"Enter unit of temperature (Celsius / fahrenheit): \")\n",
        "  if u[0].lower() == 'c':\n",
        "    new_t = (9 / 5) * t + 32\n",
        "  elif u[0].lower() == 'f':\n",
        "    new_t = 5 * (t -32) / 9\n",
        "  else:\n",
        "    print(\"invalid unit\")\n",
        "    return None\n",
        "  return new_t\n",
        "\n",
        "temperature_convert()"
      ],
      "metadata": {
        "id": "qbzUrVUy0FVe"
      },
      "execution_count": null,
      "outputs": []
    },
    {
      "cell_type": "markdown",
      "source": [
        "## Problem 3\n",
        "Ask the user to enter a temperature in Celsius. The program should print a message based on the temperature:\n",
        "\n",
        "\n",
        "1.   if the temperature is less than -273.15, print that the temperature is invalid because it is below absolute zero.\n",
        "\n",
        "2.   if it is exactly -273.15, print that the temperature is absolute 0.\n",
        "\n",
        "3.   if the temperature is between -273.17 and 0, print that the temperature is below freezing\n",
        "\n",
        "4. if it is 0, print temperature is at the freezing point.\n",
        "\n",
        "5. if it is between 0 and 100, print that the temperature is in the normal range.\n",
        "\n",
        "6. if it is 100, print that the temperature is at the boiling point.\n",
        "\n",
        "7. if it is above 100, print that the temperature is above the boiling point."
      ],
      "metadata": {
        "id": "iGFFACTC0KC6"
      }
    },
    {
      "cell_type": "code",
      "source": [
        "def check_temperature():\n",
        "  t = float(input(\"Enter temperature in Celcius: \"))\n",
        "\n",
        "  if t < -273.15:\n",
        "    print(\"temperature is invalid because it is below absolute zero\")\n",
        "\n",
        "  elif t == -273.15:\n",
        "    print(\"temperature is absolute 0\")\n",
        "\n",
        "  elif t > -273.15 and t < 0:\n",
        "    print(\"temperature is below freezing\")\n",
        "\n",
        "  elif t == 0:\n",
        "    print(\"temperature is at the freezing point\")\n",
        "\n",
        "  elif t > 0 and t < 100:\n",
        "    print(\"temperature is in the normal range\")\n",
        "\n",
        "  elif t == 100:\n",
        "    print(\"temperature is at the boiling point\")\n",
        "\n",
        "  elif t > 100:\n",
        "    print(\"temperature is above the boiling point\")\n",
        "\n",
        "check_temperature()"
      ],
      "metadata": {
        "id": "J2BoMVQG0Oc5"
      },
      "execution_count": null,
      "outputs": []
    },
    {
      "cell_type": "markdown",
      "source": [
        "## Problem 4\n",
        "Write a program that asks the user how many credits they have taken. If they have taken 23 or less, print that the student is a freshman. If they have taken 24 and 53, print that they are a sophomore. The range for juniors is 54 to 83, and for seniors is 84 and over."
      ],
      "metadata": {
        "id": "6x9lhFxl0YZK"
      }
    },
    {
      "cell_type": "code",
      "source": [
        "def student_level():\n",
        "  credits = int(input(\"How many credits have you taken: \"))\n",
        "\n",
        "  if credits <= 23:\n",
        "    print(\"You are a freshman\")\n",
        "  \n",
        "  elif credits >= 24 and credits <= 53:\n",
        "    print(\"You are a sophomore\")\n",
        "\n",
        "  elif credits >= 54 and credits <= 83:\n",
        "    print(\"You are a junior\")\n",
        "\n",
        "  elif credits >= 84:\n",
        "    print(\"You are a senior\")\n",
        "\n",
        "student_level()"
      ],
      "metadata": {
        "id": "CvCtHhH-0eAa"
      },
      "execution_count": null,
      "outputs": []
    },
    {
      "cell_type": "markdown",
      "source": [
        "## Problem 5\n",
        "\n",
        "Write a program that asks the user to enter a number and prints the sum of the divisors of that number. The sum of the divisors of a number is an important function in number theory."
      ],
      "metadata": {
        "id": "u22cWM5w0imX"
      }
    },
    {
      "cell_type": "code",
      "source": [
        "# sum of all the divisors of a number including the number\n",
        "def sum_factors():\n",
        "  num = int(input(\"Enter number: \"))\n",
        "  def sum_list_of_factors(n, i=1, l=[]):\n",
        "    if i > n:\n",
        "      return sum(l)\n",
        "    if n % i == 0:\n",
        "      l.append(i)\n",
        "    i += 1\n",
        "    return sum_list_of_factors(n, i, l)\n",
        "  print(sum_list_of_factors(num))\n",
        "\n",
        "sum_factors()"
      ],
      "metadata": {
        "id": "wM4ZL1jl0n31"
      },
      "execution_count": null,
      "outputs": []
    },
    {
      "cell_type": "markdown",
      "source": [
        "## Problem 6\n",
        "A number is called a *perfect number* if it is equal to the sum of all of its divisors, not including the number itself. Write a program that finds all the four of the perfect numbers that are less than 10000."
      ],
      "metadata": {
        "id": "4aVDHmt10urV"
      }
    },
    {
      "cell_type": "code",
      "source": [
        "def sum_list_of_factors(n, i=1, l=[]):\n",
        "    '''\n",
        "    Sums all the factors of a number n, excluding n\n",
        "    '''\n",
        "    if i == n:\n",
        "      return sum(l)\n",
        "    if n % i == 0:\n",
        "      l.append(i)\n",
        "    i += 1\n",
        "    return sum_list_of_factors(n, i, l)\n",
        "\n",
        "\n",
        "def find_perfect_number(start, end):\n",
        "    perfect_number = []\n",
        "    while start <= end:\n",
        "      if start == sum_list_of_factors(start, 1, []):\n",
        "        perfect_number.append(start)\n",
        "      \n",
        "      start += 1\n",
        "    \n",
        "    return perfect_number\n",
        "\n",
        "\n",
        "find_perfect_number(2, 10000)\n"
      ],
      "metadata": {
        "id": "hYO0iUoT02Qs"
      },
      "execution_count": null,
      "outputs": []
    },
    {
      "cell_type": "markdown",
      "source": [
        "## Problem 7\n",
        "An integer is called squarefree if it is not diviible by any perfect squares other than 1. Write a program that asks the user for an integer and tells them if it is a squarefree or not"
      ],
      "metadata": {
        "id": "7qYgqKQH07QC"
      }
    },
    {
      "cell_type": "code",
      "source": [
        "import math\n",
        "\n",
        "def is_perfect_square(num):\n",
        "  '''\n",
        "  returns True if num is a perfect square else False\n",
        "  '''\n",
        "  sqrt = str(num ** 0.5)\n",
        "  sqrt = sqrt.split(\".\")\n",
        "  if len(sqrt[1]) > 1:\n",
        "    return False\n",
        "  if sqrt[1] != '0':\n",
        "    return False\n",
        "  return True\n",
        "\n",
        "def is_factor(num, test):\n",
        "  '''\n",
        "  returns True if test is a factor of num\n",
        "  '''\n",
        "  return True if num % test == 0 else False\n",
        "\n",
        "def is_squarefree(num):\n",
        "  '''\n",
        "  Returns True if num is squarefree else false\n",
        "  '''\n",
        "\n",
        "  i = 2\n",
        "  while i <= num:\n",
        "    if is_factor(num, i) and is_perfect_square(i):\n",
        "        return False\n",
        "    i += 1\n",
        "  return True\n",
        "\n",
        "is_squarefree(45)"
      ],
      "metadata": {
        "id": "BzNr5Dgv1Ahx"
      },
      "execution_count": null,
      "outputs": []
    },
    {
      "cell_type": "markdown",
      "source": [
        "## Problem 8\n",
        "Write a program that swaps the values of variables x, y and z, so that x gets the value of y, y gets the value of z, and z gets the value of x."
      ],
      "metadata": {
        "id": "DDfPr_DP1Gev"
      }
    },
    {
      "cell_type": "code",
      "source": [
        "def swap(x, y, z):\n",
        "  print(\"Before swap:\")\n",
        "  print(f\"x is {x}\")\n",
        "  print(f\"y is {y}\")\n",
        "  print(f\"z is {z}\")\n",
        "  x, y, z = y, z, x\n",
        "  print(\"After swap:\")\n",
        "  print(f\"x is {x}\")\n",
        "  print(f\"y is {y}\")\n",
        "  print(f\"z is {z}\")\n",
        "\n",
        "swap(2, 3, 4)\n"
      ],
      "metadata": {
        "id": "pjzNznPm1LCM"
      },
      "execution_count": null,
      "outputs": []
    },
    {
      "cell_type": "markdown",
      "source": [
        "## Problem 9\n",
        "Write a Program to count how many integers from 1 to 1000 are not perfect squares, perfect cubes, or perfect fifth."
      ],
      "metadata": {
        "id": "0x4-xBjP1OBk"
      }
    },
    {
      "cell_type": "code",
      "source": [
        "def is_perfect_n(num, n):\n",
        "  '''\n",
        "  returns True if num is a perfect n else False\n",
        "  '''\n",
        "  sqrt = str(num ** (1/n))\n",
        "  sqrt = sqrt.split(\".\")\n",
        "  if len(sqrt[1]) > 1:\n",
        "    return False\n",
        "  if sqrt[1] != '0':\n",
        "    return False\n",
        "  return True\n",
        "\n",
        "not_perfect = []\n",
        "for i in range(1, 1001):\n",
        "  if not (is_perfect_n(i, 2) or is_perfect_n(i, 3) or is_perfect_n(i, 5)):\n",
        "    not_perfect.append(i)\n",
        "\n",
        "print(len(not_perfect))\n"
      ],
      "metadata": {
        "id": "SnuL4BbA1TTU"
      },
      "execution_count": null,
      "outputs": []
    },
    {
      "cell_type": "markdown",
      "source": [
        "# Problem 10\n",
        "\n",
        "Ask the user to enter 10 test scores. Write a program to do the following:\n",
        "\n",
        "a. Print out the highest and lowest scores\n",
        "\n",
        "b. Print out the average of the score\n",
        "\n",
        "c. Print out the second largest score\n",
        "\n",
        "d. If any of the scores is greater than 100, then after all the scores have been entered, print a mesage warning the user that a value over 100 has been entered\n",
        "\n",
        "e. Drop the two lowest scores and print the average of the rest of them."
      ],
      "metadata": {
        "id": "XBwdRYOX1W0c"
      }
    },
    {
      "cell_type": "code",
      "source": [
        "scores = input(\"Enter 10 test scores separated by space: \")\n",
        "\n",
        "scores = [float(i.strip()) for i in scores.strip().split(\" \")]\n",
        "if len(scores) != 10:\n",
        "  print(\"Must enter 10 scores\")\n",
        "else:\n",
        "  print(\"The highest and lowest scores are: \")\n",
        "  print(f\"Highest - {max(scores)}\")\n",
        "  print(f\"Lowest - {min(scores)}\")\n",
        "  print()\n",
        "  print(\"Average score: \")\n",
        "  print(sum(scores)/len(scores))\n",
        "  print()\n",
        "  print(\"second Largest: \")\n",
        "  print(sorted(scores)[-2])\n",
        "  print()\n",
        "  warn = False\n",
        "  for score in scores:\n",
        "    if score > 100:\n",
        "      warn = True\n",
        "\n",
        "  if warn:\n",
        "    print(\"Warning, a score is greater than 100\")\n",
        "\n",
        "  print()\n",
        "  new_scores = sorted(scores)[2:]\n",
        "  print(\"Average of new scores: \")\n",
        "  print(sum(new_scores) / len(scores))"
      ],
      "metadata": {
        "id": "iPVubJwr1eRM"
      },
      "execution_count": null,
      "outputs": []
    }
  ]
}